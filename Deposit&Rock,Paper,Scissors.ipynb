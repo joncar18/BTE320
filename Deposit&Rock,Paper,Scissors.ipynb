{
  "nbformat": 4,
  "nbformat_minor": 0,
  "metadata": {
    "colab": {
      "provenance": [],
      "authorship_tag": "ABX9TyPDsMo91CDbnyJPo16l80f8",
      "include_colab_link": true
    },
    "kernelspec": {
      "name": "python3",
      "display_name": "Python 3"
    },
    "language_info": {
      "name": "python"
    }
  },
  "cells": [
    {
      "cell_type": "markdown",
      "metadata": {
        "id": "view-in-github",
        "colab_type": "text"
      },
      "source": [
        "<a href=\"https://colab.research.google.com/github/joncar18/BTE320/blob/main/In_Class_Assignments.ipynb\" target=\"_parent\"><img src=\"https://colab.research.google.com/assets/colab-badge.svg\" alt=\"Open In Colab\"/></a>"
      ]
    },
    {
      "cell_type": "code",
      "source": [
        "deposit = float(input('Enter deposit amount: '))\n",
        "customer_type = input('Enter customer type (n: new, e: existing): ')\n",
        "\n",
        "if customer_type == 'n':\n",
        "  ir = 3.0\n",
        "  else:\n",
        "    if deposit > 10000:\n",
        "      ir = 3.5\n",
        "    elif deposit > 1000:\n",
        "    ir = 3.25\n",
        "    else:\n",
        "      ir = 3.0\n",
        "\n",
        "total = (1+ ir/100) * deposit\n",
        "print(f'Deposit at the end of the year: {round(total, 2)}')\n"
      ],
      "metadata": {
        "colab": {
          "base_uri": "https://localhost:8080/"
        },
        "id": "bIYT8252gUtQ",
        "outputId": "2fbc1351-8b62-413f-8a1c-38e5179b13c7"
      },
      "execution_count": null,
      "outputs": [
        {
          "output_type": "stream",
          "name": "stdout",
          "text": [
            "Enter deposit amount: 15000\n",
            "Deposit at the end of the year: 15525.0\n"
          ]
        }
      ]
    },
    {
      "cell_type": "code",
      "source": [
        "import random\n",
        "\n",
        "rps = input(\"Enter rock, paper, or scissors: \")\n",
        "cc = random.choice(['rock','paper','scissors'])\n",
        "\n",
        "if rps == cc:\n",
        "  print(f\"It's a tie! Player chose {rps} and Computer chose {cc}\")\n",
        "elif rps == \"rock\" and cc == \"scissors\" or rps == \"scissors\" and cc == \"paper\" or rps == \"paper\" and cc == \"rock\":\n",
        "  print(f\"Player wins! Player chose {rps} and Computer chose {cc}\")\n",
        "else:\n",
        "  print(f\"Computer Wins! Player chose {rps} and Computer chose {cc}\")\n"
      ],
      "metadata": {
        "id": "UlJRt0awnz2D",
        "colab": {
          "base_uri": "https://localhost:8080/"
        },
        "outputId": "f5a352f7-5ae8-47c0-e735-9ab2493a0925"
      },
      "execution_count": null,
      "outputs": [
        {
          "output_type": "stream",
          "name": "stdout",
          "text": [
            "Enter rock, paper, or scissors: rock\n",
            "Computer Wins! Player chose rock and Computer chose paper\n"
          ]
        }
      ]
    },
    {
      "cell_type": "code",
      "source": [
        "c = 5\n",
        "f = 2.50\n",
        "\n",
        "for hour in range(1,9):\n",
        "  if c+(f*hour) < 10:\n",
        "    print(hour, \"hours\", \"$ 10.0\")\n",
        "  elif c+(f*hour) > 20:\n",
        "    print(hour, \"hours\", \"$ 20.0\")\n",
        "  else:\n",
        "    print(hour, \"hours\", \"$\", c+(f*hour))\n"
      ],
      "metadata": {
        "id": "hzfhzyMRNkNJ",
        "colab": {
          "base_uri": "https://localhost:8080/"
        },
        "outputId": "0ddaaae1-0847-422f-d952-a9c288485d58"
      },
      "execution_count": null,
      "outputs": [
        {
          "output_type": "stream",
          "name": "stdout",
          "text": [
            "1 hours $ 10.0\n",
            "2 hours $ 10.0\n",
            "3 hours $ 12.5\n",
            "4 hours $ 15.0\n",
            "5 hours $ 17.5\n",
            "6 hours $ 20.0\n",
            "7 hours $ 20.0\n",
            "8 hours $ 20.0\n"
          ]
        }
      ]
    },
    {
      "cell_type": "code",
      "source": [
        "import random\n",
        "\n",
        "userinput = input(\"yes/no?\")\n",
        "\n",
        "while userinput==\"yes\":\n",
        "  rps = input(\"Enter rock, paper, or scissors: \")\n",
        "  cc = random.choice(['rock','paper','scissors'])\n",
        "  if rps == cc:\n",
        "    print(f\"It's a tie! Player chose {rps} and Computer chose {cc}\")\n",
        "  elif rps == \"rock\" and cc == \"scissors\" or rps == \"scissors\" and cc == \"paper\" or rps == \"paper\" and cc == \"rock\":\n",
        "    print(f\"Player wins! Player chose {rps} and Computer chose {cc}\")\n",
        "  else:\n",
        "    print(f\"Computer Wins! Player chose {rps} and Computer chose {cc}\")\n",
        "  userinput = input(\"Play again? yes/no?\")\n"
      ],
      "metadata": {
        "colab": {
          "base_uri": "https://localhost:8080/"
        },
        "id": "IuFNSokd9VZv",
        "outputId": "2fceff78-9e2c-4fb6-ea82-a8d19a6639a5"
      },
      "execution_count": null,
      "outputs": [
        {
          "name": "stdout",
          "output_type": "stream",
          "text": [
            "yes/no?yes\n",
            "Enter rock, paper, or scissors: rock\n",
            "Computer Wins! Player chose rock and Computer chose paper\n",
            "Play again? yes/no?yes\n",
            "Enter rock, paper, or scissors: rock\n",
            "It's a tie! Player chose rock and Computer chose rock\n",
            "Play again? yes/no?no\n"
          ]
        }
      ]
    },
    {
      "cell_type": "code",
      "source": [
        "down = 100000\n",
        "deposit = 10000\n",
        "amount = 5000\n",
        "n_months = 0\n",
        "\n",
        "while deposit <= down:\n",
        "  deposit = deposit + amount\n",
        "  n_months = n_months + 1"
      ],
      "metadata": {
        "id": "v0rmLbXCAmGQ"
      },
      "execution_count": null,
      "outputs": []
    }
  ]
}
