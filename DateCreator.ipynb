{
  "nbformat": 4,
  "nbformat_minor": 0,
  "metadata": {
    "colab": {
      "provenance": [],
      "authorship_tag": "ABX9TyNKtQ71XqI2X+QNy/DmV3mm",
      "include_colab_link": true
    },
    "kernelspec": {
      "name": "python3",
      "display_name": "Python 3"
    },
    "language_info": {
      "name": "python"
    }
  },
  "cells": [
    {
      "cell_type": "markdown",
      "metadata": {
        "id": "view-in-github",
        "colab_type": "text"
      },
      "source": [
        "<a href=\"https://colab.research.google.com/github/joncar18/BTE320/blob/main/DateCreator.ipynb\" target=\"_parent\"><img src=\"https://colab.research.google.com/assets/colab-badge.svg\" alt=\"Open In Colab\"/></a>"
      ]
    },
    {
      "cell_type": "code",
      "execution_count": 13,
      "metadata": {
        "colab": {
          "base_uri": "https://localhost:8080/"
        },
        "id": "9Zx2RrAt_cMw",
        "outputId": "691c6b90-4c38-4aef-b910-643f3eb6b61b"
      },
      "outputs": [
        {
          "output_type": "stream",
          "name": "stdout",
          "text": [
            "Enter date (mm/dd/yyyy): 02/21/2024\n",
            "02/21/2024\n"
          ]
        }
      ],
      "source": [
        "s = input(\"Enter date (mm/dd/yyyy): \")\n",
        "\n",
        "month_s = s[:3]\n",
        "day_s = s[3:6]\n",
        "year_s = s[6:]\n",
        "print(f'{month_s}{day_s}{year_s}')"
      ]
    }
  ]
}