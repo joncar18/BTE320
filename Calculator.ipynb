{
  "nbformat": 4,
  "nbformat_minor": 0,
  "metadata": {
    "colab": {
      "provenance": [],
      "authorship_tag": "ABX9TyMQesOhLfnjmM0e+LC3f6wg",
      "include_colab_link": true
    },
    "kernelspec": {
      "name": "python3",
      "display_name": "Python 3"
    },
    "language_info": {
      "name": "python"
    }
  },
  "cells": [
    {
      "cell_type": "markdown",
      "metadata": {
        "id": "view-in-github",
        "colab_type": "text"
      },
      "source": [
        "<a href=\"https://colab.research.google.com/github/joncar18/BTE320/blob/main/Calculator.ipynb\" target=\"_parent\"><img src=\"https://colab.research.google.com/assets/colab-badge.svg\" alt=\"Open In Colab\"/></a>"
      ]
    },
    {
      "cell_type": "markdown",
      "source": [
        "Design a calculator:\n",
        "- the calculator once starts, cannot stop unless the user chooses to (hint: infinite loop)\n",
        "\n",
        "- Implement all numerical operators that we discussed:\n",
        "\n",
        "  - +, -, *, /, //, %, **\n",
        "\n",
        "- The user has to provide the numbers and the desired operator from the keyboard; then, the calculator will display the result\n",
        "\n",
        "- Numbers: int or float, operator: str\n",
        "\n",
        "- The calculator stops if the user enters the word \"break\" instead of a operator; it skips an iteration if the user gives an operator that is not numerical (ex. a boolean one)"
      ],
      "metadata": {
        "id": "ezc6W7tHcBb6"
      }
    },
    {
      "cell_type": "code",
      "execution_count": null,
      "metadata": {
        "colab": {
          "base_uri": "https://localhost:8080/"
        },
        "id": "lTqayRNfb0WB",
        "outputId": "33f796e7-93a0-4041-a8e5-4e6f0ccc82ae"
      },
      "outputs": [
        {
          "output_type": "stream",
          "name": "stdout",
          "text": [
            "Enter first number: 8\n",
            "Enter second number: 4\n",
            "Enter the operator: *\n",
            "Result 32.0\n",
            "Enter first number: 9\n",
            "Enter second number: 2\n",
            "Enter the operator: **\n",
            "Result 81.0\n",
            "Enter first number: 16\n",
            "Enter second number: 2\n",
            "Enter the operator: %\n",
            "Result 0.0\n",
            "Enter first number: 16\n",
            "Enter second number: 2\n",
            "Enter the operator: //\n",
            "Result 8.0\n",
            "Enter first number: 16\n",
            "Enter second number: 2\n",
            "Enter the operator: /\n",
            "Result 8.0\n",
            "Enter first number: 32\n",
            "Enter second number: 2\n",
            "Enter the operator: //\n",
            "Result 16.0\n"
          ]
        }
      ],
      "source": [
        "while True:\n",
        "  num1 = float(input(\"Enter first number: \"))\n",
        "  num2 = float(input(\"Enter second number: \"))\n",
        "  operator = input(\"Enter the operator: \")\n",
        "\n",
        "  if operator == 'break':\n",
        "    break\n",
        "\n",
        "  if operator == \"+\":\n",
        "    answer = num1 + num2\n",
        "  elif operator == \"-\":\n",
        "    answer = num1 - num2\n",
        "  elif operator == \"*\":\n",
        "    answer = num1 * num2\n",
        "  elif operator == \"/\":\n",
        "    answer = num1 / num2\n",
        "  elif operator == \"//\":\n",
        "    answer = num1 // num2\n",
        "  elif operator == \"**\":\n",
        "    answer = num1 ** num2\n",
        "  elif operator == \"%\":\n",
        "    answer = num1 % num2\n",
        "  else:\n",
        "    print('Invalid operator:', operator)\n",
        "    continue\n",
        "\n",
        "  print('Result', answer)"
      ]
    }
  ]
}