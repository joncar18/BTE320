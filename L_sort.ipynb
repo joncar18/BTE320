{
  "nbformat": 4,
  "nbformat_minor": 0,
  "metadata": {
    "colab": {
      "provenance": [],
      "authorship_tag": "ABX9TyNxvAa04vRvqVncZHAiAebh",
      "include_colab_link": true
    },
    "kernelspec": {
      "name": "python3",
      "display_name": "Python 3"
    },
    "language_info": {
      "name": "python"
    }
  },
  "cells": [
    {
      "cell_type": "markdown",
      "metadata": {
        "id": "view-in-github",
        "colab_type": "text"
      },
      "source": [
        "<a href=\"https://colab.research.google.com/github/joncar18/BTE320/blob/main/L_sort.ipynb\" target=\"_parent\"><img src=\"https://colab.research.google.com/assets/colab-badge.svg\" alt=\"Open In Colab\"/></a>"
      ]
    },
    {
      "cell_type": "code",
      "execution_count": 2,
      "metadata": {
        "colab": {
          "base_uri": "https://localhost:8080/"
        },
        "id": "EEOr-quzDILj",
        "outputId": "37550d98-d1a3-45b2-bab3-74843cc4371d"
      },
      "outputs": [
        {
          "output_type": "execute_result",
          "data": {
            "text/plain": [
              "[0, 1, 2, 3, 5, 7]"
            ]
          },
          "metadata": {},
          "execution_count": 2
        }
      ],
      "source": [
        "L = [5,2,7,0,1,3]\n",
        "L.sort()\n",
        "L"
      ]
    },
    {
      "cell_type": "code",
      "source": [
        "l1 = [1,2,3,4]\n",
        "l2 = [1,2,5,6]\n",
        "\n",
        "for item in l1[:]:\n",
        "  if item in l2:\n",
        "    l1.remove(item)\n",
        "l1"
      ],
      "metadata": {
        "colab": {
          "base_uri": "https://localhost:8080/"
        },
        "id": "EJWvsInbELji",
        "outputId": "b6289fd4-76ba-4fae-f7fa-3023fe62d25d"
      },
      "execution_count": 4,
      "outputs": [
        {
          "output_type": "execute_result",
          "data": {
            "text/plain": [
              "[3, 4]"
            ]
          },
          "metadata": {},
          "execution_count": 4
        }
      ]
    },
    {
      "cell_type": "code",
      "source": [
        "t = (1, 'two', 3.0)\n",
        "len(t)"
      ],
      "metadata": {
        "colab": {
          "base_uri": "https://localhost:8080/"
        },
        "id": "aAwWlfwtGt2d",
        "outputId": "380a7b03-f6b2-4c16-b821-adb6208d080a"
      },
      "execution_count": 5,
      "outputs": [
        {
          "output_type": "execute_result",
          "data": {
            "text/plain": [
              "3"
            ]
          },
          "metadata": {},
          "execution_count": 5
        }
      ]
    },
    {
      "cell_type": "code",
      "source": [
        "t + t[:2]"
      ],
      "metadata": {
        "colab": {
          "base_uri": "https://localhost:8080/"
        },
        "id": "Jxf9lzp6HL2c",
        "outputId": "37e89f44-5065-4536-bff6-1e352f7c82e9"
      },
      "execution_count": 6,
      "outputs": [
        {
          "output_type": "execute_result",
          "data": {
            "text/plain": [
              "(1, 'two', 3.0, 1, 'two')"
            ]
          },
          "metadata": {},
          "execution_count": 6
        }
      ]
    },
    {
      "cell_type": "markdown",
      "source": [
        "tuples are immutable objects"
      ],
      "metadata": {
        "id": "WUYy0KMBHbv0"
      }
    },
    {
      "cell_type": "code",
      "source": [
        "grades = {\n",
        "    'Alice': 90,\n",
        "    'Bob': 88,\n",
        "    'Tracy': 93,\n",
        "    'Erik': 89\n",
        "}"
      ],
      "metadata": {
        "id": "MnxSybbOHii5"
      },
      "execution_count": 8,
      "outputs": []
    },
    {
      "cell_type": "code",
      "source": [
        "grades['Bob']"
      ],
      "metadata": {
        "colab": {
          "base_uri": "https://localhost:8080/"
        },
        "id": "no9l5we3KGMa",
        "outputId": "800bdd38-9915-4572-b6bb-02e9dc94b6de"
      },
      "execution_count": 9,
      "outputs": [
        {
          "output_type": "execute_result",
          "data": {
            "text/plain": [
              "88"
            ]
          },
          "metadata": {},
          "execution_count": 9
        }
      ]
    },
    {
      "cell_type": "code",
      "source": [
        "grades['Abby'] = 99\n",
        "grades"
      ],
      "metadata": {
        "colab": {
          "base_uri": "https://localhost:8080/"
        },
        "id": "gOH63vv5KlYZ",
        "outputId": "3ae98127-9515-4de7-b09d-ae1b7fd70d06"
      },
      "execution_count": 12,
      "outputs": [
        {
          "output_type": "execute_result",
          "data": {
            "text/plain": [
              "{'Alice': 90, 'Bob': 88, 'Tracy': 93, 'Erik': 89, 'Abby': 99}"
            ]
          },
          "metadata": {},
          "execution_count": 12
        }
      ]
    },
    {
      "cell_type": "markdown",
      "source": [
        "dictionaries are mutable\n",
        "they don't have an order\n",
        "accessing values happens through the keys format:\n",
        "\n",
        "d[k] = v\n",
        "\n",
        "\n",
        "keys are unique and immutable\n",
        "\n",
        "delete using format:\n",
        "\n",
        "del d[k]"
      ],
      "metadata": {
        "id": "pv8GWf2iKiAz"
      }
    },
    {
      "cell_type": "code",
      "source": [],
      "metadata": {
        "id": "8n_tqHQoMI-3"
      },
      "execution_count": null,
      "outputs": []
    }
  ]
}