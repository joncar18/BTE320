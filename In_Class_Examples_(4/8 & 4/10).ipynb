{
  "nbformat": 4,
  "nbformat_minor": 0,
  "metadata": {
    "colab": {
      "provenance": [],
      "authorship_tag": "ABX9TyPg2xfJwl5mO7PFsatkrObT",
      "include_colab_link": true
    },
    "kernelspec": {
      "name": "python3",
      "display_name": "Python 3"
    },
    "language_info": {
      "name": "python"
    }
  },
  "cells": [
    {
      "cell_type": "markdown",
      "metadata": {
        "id": "view-in-github",
        "colab_type": "text"
      },
      "source": [
        "<a href=\"https://colab.research.google.com/github/joncar18/BTE320/blob/main/In_Class_Examples_(4/8%20%26%204/10).ipynb\" target=\"_parent\"><img src=\"https://colab.research.google.com/assets/colab-badge.svg\" alt=\"Open In Colab\"/></a>"
      ]
    },
    {
      "cell_type": "code",
      "execution_count": null,
      "metadata": {
        "colab": {
          "base_uri": "https://localhost:8080/"
        },
        "id": "oUCJ6s2niOh_",
        "outputId": "40684d22-efb9-471f-ad7e-d4a1935603bf"
      },
      "outputs": [
        {
          "output_type": "stream",
          "name": "stdout",
          "text": [
            "Enter numerator: 2\n",
            "Enter denominator: 5\n",
            "0.4\n",
            "Program ends.\n",
            "Enter index: 3\n",
            "4\n"
          ]
        }
      ],
      "source": [
        "try:\n",
        "  a = float(input(\"Enter numerator: \"))\n",
        "  b = float(input(\"Enter denominator: \"))\n",
        "  print(a/b)\n",
        "  print(\"Program ends.\")\n",
        "except ZeroDivisionError:\n",
        "  print(\"Division by zero not allowed!\")\n",
        "except ValueError:\n",
        "  print(\"Input values must be numeric!\")\n",
        "except TypeError:\n",
        "  print(\"Division with incompatible types!\")\n",
        "except:\n",
        "  print(\"Unknown error!\")\n",
        "\n",
        "try:\n",
        "  l = [1,2,3,4,5]\n",
        "  idx = int(input(\"Enter index: \"))\n",
        "  print(l[idx])\n",
        "except IndexError:\n",
        "  print(\"Index given is out of bounds!\")"
      ]
    },
    {
      "cell_type": "code",
      "source": [],
      "metadata": {
        "colab": {
          "base_uri": "https://localhost:8080/"
        },
        "id": "Flm1U3ZRlSZd",
        "outputId": "317242bf-073b-4135-87d7-8bf73fb9b143"
      },
      "execution_count": null,
      "outputs": [
        {
          "output_type": "stream",
          "name": "stdout",
          "text": [
            "3\n"
          ]
        }
      ]
    },
    {
      "cell_type": "code",
      "source": [
        "def avg(alist):\n",
        "  try:\n",
        "    return sum(alist) / len(alist)\n",
        "  except ZeroDivisionError:\n",
        "    print(\"List is empty!\")\n",
        "  except TypeError:\n",
        "    print(\"Input values must be compatible type!\")\n",
        "    return float('nan')\n",
        "  else:\n",
        "    print(\"All good!\")\n",
        "  finally:\n",
        "    print('This will be displayed always')\n",
        "\n",
        "avg([])"
      ],
      "metadata": {
        "colab": {
          "base_uri": "https://localhost:8080/"
        },
        "id": "vtmWZlHM0hXI",
        "outputId": "bd9a2f39-233e-4eb2-ed5b-2c4b139fd699"
      },
      "execution_count": 21,
      "outputs": [
        {
          "output_type": "stream",
          "name": "stdout",
          "text": [
            "List is empty!\n",
            "This will be displayed always\n"
          ]
        }
      ]
    },
    {
      "cell_type": "markdown",
      "source": [
        "try\n",
        "\n",
        "except\n",
        "\n",
        "else\n",
        "\n",
        "finally"
      ],
      "metadata": {
        "id": "apb0uhlB9Et-"
      }
    }
  ]
}